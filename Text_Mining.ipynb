{
 "cells": [
  {
   "cell_type": "markdown",
   "id": "11303cfe",
   "metadata": {},
   "source": [
    "# Text Mining\n",
    "Data file:\n",
    "* https://raw.githubusercontent.com/vjavaly/Baruch-CIS-STA-3920/main/data/Seattle_hotels.csv"
   ]
  },
  {
   "cell_type": "markdown",
   "id": "3a2865f1",
   "metadata": {},
   "source": [
    "## Requirements\n",
    "* Load data and examine data\n",
    "* Clean data: 1) remove punctuation, 2) lowercase, 3) stem or lemmatize\n",
    "* Vectorize cleaned data\n",
    "* Generate similarities matrix\n",
    "* Generate hotel recommendations for the 3 listed hotels\n",
    "  * Motel 6 Seattle Sea-Tac Airport South\n",
    "  * The Bacon Mansion Bed and Breakfast\n",
    "  * Holiday Inn Seattle Downtown"
   ]
  },
  {
   "cell_type": "code",
   "execution_count": 1,
   "id": "d9f32f4a-632e-4536-a834-0925b4fb412c",
   "metadata": {},
   "outputs": [
    {
     "name": "stdout",
     "output_type": "stream",
     "text": [
      "Run time: 02/13/24 15:56:04\n"
     ]
    }
   ],
   "source": [
    "from datetime import datetime\n",
    "print(f'Run time: {datetime.now().strftime(\"%D %T\")}')"
   ]
  },
  {
   "cell_type": "markdown",
   "id": "ba1b07f9",
   "metadata": {},
   "source": [
    "### Import libraries"
   ]
  },
  {
   "cell_type": "code",
   "execution_count": 2,
   "id": "2ac5b562",
   "metadata": {},
   "outputs": [],
   "source": [
    "import pandas as pd\n",
    "import re\n",
    "import string\n",
    "import nltk\n",
    "from sklearn.feature_extraction.text import TfidfVectorizer\n",
    "from sklearn.metrics.pairwise import cosine_similarity"
   ]
  },
  {
   "cell_type": "markdown",
   "id": "3252fbd0",
   "metadata": {},
   "source": [
    "### Load data"
   ]
  },
  {
   "cell_type": "code",
   "execution_count": 3,
   "id": "dd4d3fc9",
   "metadata": {},
   "outputs": [
    {
     "data": {
      "text/plain": [
       "(152, 3)"
      ]
     },
     "execution_count": 3,
     "metadata": {},
     "output_type": "execute_result"
    }
   ],
   "source": [
    "df = pd.read_csv('https://raw.githubusercontent.com/vjavaly/Baruch-CIS-STA-3920/main/data/Seattle_hotels.csv')\n",
    "df.shape"
   ]
  },
  {
   "cell_type": "markdown",
   "id": "3458cc61",
   "metadata": {},
   "source": [
    "### Examine data"
   ]
  },
  {
   "cell_type": "code",
   "execution_count": 4,
   "id": "5bb053c0-264e-43dc-aec7-c92b8bf46022",
   "metadata": {},
   "outputs": [],
   "source": [
    "pd.set_option('max_colwidth', None)"
   ]
  },
  {
   "cell_type": "code",
   "execution_count": 5,
   "id": "ff76b5ab",
   "metadata": {
    "scrolled": true
   },
   "outputs": [
    {
     "data": {
      "text/html": [
       "<div>\n",
       "<style scoped>\n",
       "    .dataframe tbody tr th:only-of-type {\n",
       "        vertical-align: middle;\n",
       "    }\n",
       "\n",
       "    .dataframe tbody tr th {\n",
       "        vertical-align: top;\n",
       "    }\n",
       "\n",
       "    .dataframe thead th {\n",
       "        text-align: right;\n",
       "    }\n",
       "</style>\n",
       "<table border=\"1\" class=\"dataframe\">\n",
       "  <thead>\n",
       "    <tr style=\"text-align: right;\">\n",
       "      <th></th>\n",
       "      <th>name</th>\n",
       "      <th>address</th>\n",
       "      <th>desc</th>\n",
       "    </tr>\n",
       "  </thead>\n",
       "  <tbody>\n",
       "    <tr>\n",
       "      <th>0</th>\n",
       "      <td>Hilton Garden Seattle Downtown</td>\n",
       "      <td>1821 Boren Avenue, Seattle Washington 98101 USA</td>\n",
       "      <td>Located on the southern tip of Lake Union, the Hilton Garden Inn Seattle Downtown hotel is perfectly located for business and leisure. \\nThe neighborhood is home to numerous major international companies including Amazon, Google and the Bill &amp; Melinda Gates Foundation. A wealth of eclectic restaurants and bars make this area of Seattle one of the most sought out by locals and visitors. Our proximity to Lake Union allows visitors to take in some of the Pacific Northwest's majestic scenery and enjoy outdoor activities like kayaking and sailing. over 2,000 sq. ft. of versatile space and a complimentary business center. State-of-the-art A/V technology and our helpful staff will guarantee your conference, cocktail reception or wedding is a success. Refresh in the sparkling saltwater pool, or energize with the latest equipment in the 24-hour fitness center. Tastefully decorated and flooded with natural light, our guest rooms and suites offer everything you need to relax and stay productive. Unwind in the bar, and enjoy American cuisine for breakfast, lunch and dinner in our restaurant. The 24-hour Pavilion Pantry? stocks a variety of snacks, drinks and sundries.</td>\n",
       "    </tr>\n",
       "    <tr>\n",
       "      <th>1</th>\n",
       "      <td>Sheraton Grand Seattle</td>\n",
       "      <td>1400 6th Avenue, Seattle, Washington 98101 USA</td>\n",
       "      <td>Located in the city's vibrant core, the Sheraton Grand Seattle provides a gateway to the diverse sights and sounds of the Pacific Northwest. Step out of our front doors to find gourmet dining and bars, world-class shopping, exciting entertainment, and iconic local attractions including the Pike Place Market, Space Needle and Chihuly Garden &amp; Glass Museum. As one of only seven Sheraton hotels in North America to earn the esteemed Grand designation, guests can book confidently knowing they?re receiving the highest benchmark on product and service offerings available. Experience our recently completed multimillion-dollar transformation featuring all new guest rooms, an expanded Sheraton Club Lounge, and modern meeting &amp; event spaces. Gather in our stylish new lobby and enjoy our private art collection featuring local artists while enjoying your favorite beverage from Starbucks. The Sheraton Grand features several dining options including Loulay Kitchen &amp; Bar by James Beard award winning chef Thierry Rautureau.</td>\n",
       "    </tr>\n",
       "    <tr>\n",
       "      <th>2</th>\n",
       "      <td>Crowne Plaza Seattle Downtown</td>\n",
       "      <td>1113 6th Ave, Seattle, WA 98101</td>\n",
       "      <td>Located in the heart of downtown Seattle, the award-winning \\nCrowne Plaza Hotel Seattle ? Downtown offers an exceptional blend of service, style and comfort. You?ll notice Cool, Comfortable and Unconventional touches that set us apart as soon as you step inside. Marvel at stunning views of the city lights while relaxing in our new Sleep Advantage? Beds. Enjoy complimentary wireless Internet throughout the hotel and amenities to help you relax like our Temple Spa? Sleep Tight Amenity kits featuring lavender spray and lotions to help you rejuvenate and unwind. Enjoy an invigorating workout at our 24-hour fitness center, get dining suggestions from our expert concierge or savor sumptuous cuisine at our Regatta Bar &amp; Grille restaurant where you can enjoy Happy Hour in our lounge daily from 4pm - 7pm and monthly drink specials. Come and experience all that The Emerald City has to offer with us!</td>\n",
       "    </tr>\n",
       "    <tr>\n",
       "      <th>3</th>\n",
       "      <td>Kimpton Hotel Monaco Seattle</td>\n",
       "      <td>1101 4th Ave, Seattle, WA98101</td>\n",
       "      <td>What?s near our hotel downtown Seattle location? The better \\nquestion might be what?s not nearby. In addition to being one of the hotels near Pike Place Market, here?s just a small sampling of the rest. Columbia Center, whose Sky View Observatory on the 73rd floor is the tallest public viewing area west of the Mississippi Historic 5th Avenue Theatre, home to musical productions Seattle Central Library, an architectural marvel. Within half a mile: The must-see Pike Place Market, which houses the original Starbucks Pioneer Square, Seattle?s original downtown. Seattle Art Museum. Fantastic shopping, including the flagship Nordstrom, Nordstrom Rack, Macy?s, Columbia Sportswear, Louis Vuitton, Arcteryx, and oodles of independent boutiques. The Great Wheel. Washington State Convention Center. Within about a mile: The iconic Space Needle.  Bell Street Pier Cruise Terminal at Pier 66. Sports stadiums CenturyLink Field and Safeco Field, home to the Seattle Seahawks, Seattle Mariners, and Seattle Sounders.</td>\n",
       "    </tr>\n",
       "    <tr>\n",
       "      <th>4</th>\n",
       "      <td>The Westin Seattle</td>\n",
       "      <td>1900 5th Avenue,�Seattle,�Washington�98101�USA</td>\n",
       "      <td>Situated amid incredible shopping and iconic attractions, The Westin Seattle is a contemporary haven in a prime location. Relax and recharge in stylish accommodations, modern comforts, signature Heavenly� amenities and gorgeous views of the Seattle skyline, Puget Sound, Lake Union and Cascade mountain range. Experience our newly renovated lobby including 1900 FIFTH, our new lobby bar offering a carefully curated wine and crafted cocktail experience. Explore a spectacular collection of celebrated attractions, including the Space Needle, CenturyLink Field, The Washington State Convention Center, Pike Place Market and the Seattle Waterfront. Host unforgettable meetings and social engagements in more than 70,000 square feet of event space, enhanced by expert planning and custom catering. Refresh in our pool or energize your mind and body in our sleek WestinWORKOUT� Fitness Studio. Designed to reflect the style and substance of the Emerald City, our hotel is a welcoming haven near the best of downtown Seattle.</td>\n",
       "    </tr>\n",
       "  </tbody>\n",
       "</table>\n",
       "</div>"
      ],
      "text/plain": [
       "                             name  \\\n",
       "0  Hilton Garden Seattle Downtown   \n",
       "1          Sheraton Grand Seattle   \n",
       "2   Crowne Plaza Seattle Downtown   \n",
       "3   Kimpton Hotel Monaco Seattle    \n",
       "4              The Westin Seattle   \n",
       "\n",
       "                                           address  \\\n",
       "0  1821 Boren Avenue, Seattle Washington 98101 USA   \n",
       "1   1400 6th Avenue, Seattle, Washington 98101 USA   \n",
       "2                  1113 6th Ave, Seattle, WA 98101   \n",
       "3                   1101 4th Ave, Seattle, WA98101   \n",
       "4   1900 5th Avenue,�Seattle,�Washington�98101�USA   \n",
       "\n",
       "                                                                                                                                                                                                                                                                                                                                                                                                                                                                                                                                                                                                                                                                                                                                                                                                                                                                                                                                                                                                                                                                                                                                                                                                                     desc  \n",
       "0  Located on the southern tip of Lake Union, the Hilton Garden Inn Seattle Downtown hotel is perfectly located for business and leisure. \\nThe neighborhood is home to numerous major international companies including Amazon, Google and the Bill & Melinda Gates Foundation. A wealth of eclectic restaurants and bars make this area of Seattle one of the most sought out by locals and visitors. Our proximity to Lake Union allows visitors to take in some of the Pacific Northwest's majestic scenery and enjoy outdoor activities like kayaking and sailing. over 2,000 sq. ft. of versatile space and a complimentary business center. State-of-the-art A/V technology and our helpful staff will guarantee your conference, cocktail reception or wedding is a success. Refresh in the sparkling saltwater pool, or energize with the latest equipment in the 24-hour fitness center. Tastefully decorated and flooded with natural light, our guest rooms and suites offer everything you need to relax and stay productive. Unwind in the bar, and enjoy American cuisine for breakfast, lunch and dinner in our restaurant. The 24-hour Pavilion Pantry? stocks a variety of snacks, drinks and sundries.  \n",
       "1                                                                                                                                                          Located in the city's vibrant core, the Sheraton Grand Seattle provides a gateway to the diverse sights and sounds of the Pacific Northwest. Step out of our front doors to find gourmet dining and bars, world-class shopping, exciting entertainment, and iconic local attractions including the Pike Place Market, Space Needle and Chihuly Garden & Glass Museum. As one of only seven Sheraton hotels in North America to earn the esteemed Grand designation, guests can book confidently knowing they?re receiving the highest benchmark on product and service offerings available. Experience our recently completed multimillion-dollar transformation featuring all new guest rooms, an expanded Sheraton Club Lounge, and modern meeting & event spaces. Gather in our stylish new lobby and enjoy our private art collection featuring local artists while enjoying your favorite beverage from Starbucks. The Sheraton Grand features several dining options including Loulay Kitchen & Bar by James Beard award winning chef Thierry Rautureau.  \n",
       "2                                                                                                                                                                                                                                                                                 Located in the heart of downtown Seattle, the award-winning \\nCrowne Plaza Hotel Seattle ? Downtown offers an exceptional blend of service, style and comfort. You?ll notice Cool, Comfortable and Unconventional touches that set us apart as soon as you step inside. Marvel at stunning views of the city lights while relaxing in our new Sleep Advantage? Beds. Enjoy complimentary wireless Internet throughout the hotel and amenities to help you relax like our Temple Spa? Sleep Tight Amenity kits featuring lavender spray and lotions to help you rejuvenate and unwind. Enjoy an invigorating workout at our 24-hour fitness center, get dining suggestions from our expert concierge or savor sumptuous cuisine at our Regatta Bar & Grille restaurant where you can enjoy Happy Hour in our lounge daily from 4pm - 7pm and monthly drink specials. Come and experience all that The Emerald City has to offer with us!  \n",
       "3                                                                                                                                                                    What?s near our hotel downtown Seattle location? The better \\nquestion might be what?s not nearby. In addition to being one of the hotels near Pike Place Market, here?s just a small sampling of the rest. Columbia Center, whose Sky View Observatory on the 73rd floor is the tallest public viewing area west of the Mississippi Historic 5th Avenue Theatre, home to musical productions Seattle Central Library, an architectural marvel. Within half a mile: The must-see Pike Place Market, which houses the original Starbucks Pioneer Square, Seattle?s original downtown. Seattle Art Museum. Fantastic shopping, including the flagship Nordstrom, Nordstrom Rack, Macy?s, Columbia Sportswear, Louis Vuitton, Arcteryx, and oodles of independent boutiques. The Great Wheel. Washington State Convention Center. Within about a mile: The iconic Space Needle.  Bell Street Pier Cruise Terminal at Pier 66. Sports stadiums CenturyLink Field and Safeco Field, home to the Seattle Seahawks, Seattle Mariners, and Seattle Sounders.  \n",
       "4                                                                                                                                                            Situated amid incredible shopping and iconic attractions, The Westin Seattle is a contemporary haven in a prime location. Relax and recharge in stylish accommodations, modern comforts, signature Heavenly� amenities and gorgeous views of the Seattle skyline, Puget Sound, Lake Union and Cascade mountain range. Experience our newly renovated lobby including 1900 FIFTH, our new lobby bar offering a carefully curated wine and crafted cocktail experience. Explore a spectacular collection of celebrated attractions, including the Space Needle, CenturyLink Field, The Washington State Convention Center, Pike Place Market and the Seattle Waterfront. Host unforgettable meetings and social engagements in more than 70,000 square feet of event space, enhanced by expert planning and custom catering. Refresh in our pool or energize your mind and body in our sleek WestinWORKOUT� Fitness Studio. Designed to reflect the style and substance of the Emerald City, our hotel is a welcoming haven near the best of downtown Seattle.  "
      ]
     },
     "execution_count": 5,
     "metadata": {},
     "output_type": "execute_result"
    }
   ],
   "source": [
    "df.head()"
   ]
  },
  {
   "cell_type": "markdown",
   "id": "7afe5462",
   "metadata": {},
   "source": [
    "### Prepare data"
   ]
  },
  {
   "cell_type": "code",
   "execution_count": 6,
   "id": "1d315d79-940b-4b20-bfc8-5fed2fb75274",
   "metadata": {
    "scrolled": true,
    "tags": []
   },
   "outputs": [],
   "source": [
    "# Drop column address\n",
    "df.drop('address', axis=1, inplace=True)"
   ]
  },
  {
   "cell_type": "code",
   "execution_count": 7,
   "id": "cbb32245",
   "metadata": {},
   "outputs": [
    {
     "data": {
      "text/html": [
       "<div>\n",
       "<style scoped>\n",
       "    .dataframe tbody tr th:only-of-type {\n",
       "        vertical-align: middle;\n",
       "    }\n",
       "\n",
       "    .dataframe tbody tr th {\n",
       "        vertical-align: top;\n",
       "    }\n",
       "\n",
       "    .dataframe thead th {\n",
       "        text-align: right;\n",
       "    }\n",
       "</style>\n",
       "<table border=\"1\" class=\"dataframe\">\n",
       "  <thead>\n",
       "    <tr style=\"text-align: right;\">\n",
       "      <th></th>\n",
       "      <th>name</th>\n",
       "      <th>desc</th>\n",
       "    </tr>\n",
       "  </thead>\n",
       "  <tbody>\n",
       "    <tr>\n",
       "      <th>0</th>\n",
       "      <td>Hilton Garden Seattle Downtown</td>\n",
       "      <td>Located on the southern tip of Lake Union, the Hilton Garden Inn Seattle Downtown hotel is perfectly located for business and leisure. \\nThe neighborhood is home to numerous major international companies including Amazon, Google and the Bill &amp; Melinda Gates Foundation. A wealth of eclectic restaurants and bars make this area of Seattle one of the most sought out by locals and visitors. Our proximity to Lake Union allows visitors to take in some of the Pacific Northwest's majestic scenery and enjoy outdoor activities like kayaking and sailing. over 2,000 sq. ft. of versatile space and a complimentary business center. State-of-the-art A/V technology and our helpful staff will guarantee your conference, cocktail reception or wedding is a success. Refresh in the sparkling saltwater pool, or energize with the latest equipment in the 24-hour fitness center. Tastefully decorated and flooded with natural light, our guest rooms and suites offer everything you need to relax and stay productive. Unwind in the bar, and enjoy American cuisine for breakfast, lunch and dinner in our restaurant. The 24-hour Pavilion Pantry? stocks a variety of snacks, drinks and sundries.</td>\n",
       "    </tr>\n",
       "    <tr>\n",
       "      <th>1</th>\n",
       "      <td>Sheraton Grand Seattle</td>\n",
       "      <td>Located in the city's vibrant core, the Sheraton Grand Seattle provides a gateway to the diverse sights and sounds of the Pacific Northwest. Step out of our front doors to find gourmet dining and bars, world-class shopping, exciting entertainment, and iconic local attractions including the Pike Place Market, Space Needle and Chihuly Garden &amp; Glass Museum. As one of only seven Sheraton hotels in North America to earn the esteemed Grand designation, guests can book confidently knowing they?re receiving the highest benchmark on product and service offerings available. Experience our recently completed multimillion-dollar transformation featuring all new guest rooms, an expanded Sheraton Club Lounge, and modern meeting &amp; event spaces. Gather in our stylish new lobby and enjoy our private art collection featuring local artists while enjoying your favorite beverage from Starbucks. The Sheraton Grand features several dining options including Loulay Kitchen &amp; Bar by James Beard award winning chef Thierry Rautureau.</td>\n",
       "    </tr>\n",
       "    <tr>\n",
       "      <th>2</th>\n",
       "      <td>Crowne Plaza Seattle Downtown</td>\n",
       "      <td>Located in the heart of downtown Seattle, the award-winning \\nCrowne Plaza Hotel Seattle ? Downtown offers an exceptional blend of service, style and comfort. You?ll notice Cool, Comfortable and Unconventional touches that set us apart as soon as you step inside. Marvel at stunning views of the city lights while relaxing in our new Sleep Advantage? Beds. Enjoy complimentary wireless Internet throughout the hotel and amenities to help you relax like our Temple Spa? Sleep Tight Amenity kits featuring lavender spray and lotions to help you rejuvenate and unwind. Enjoy an invigorating workout at our 24-hour fitness center, get dining suggestions from our expert concierge or savor sumptuous cuisine at our Regatta Bar &amp; Grille restaurant where you can enjoy Happy Hour in our lounge daily from 4pm - 7pm and monthly drink specials. Come and experience all that The Emerald City has to offer with us!</td>\n",
       "    </tr>\n",
       "    <tr>\n",
       "      <th>3</th>\n",
       "      <td>Kimpton Hotel Monaco Seattle</td>\n",
       "      <td>What?s near our hotel downtown Seattle location? The better \\nquestion might be what?s not nearby. In addition to being one of the hotels near Pike Place Market, here?s just a small sampling of the rest. Columbia Center, whose Sky View Observatory on the 73rd floor is the tallest public viewing area west of the Mississippi Historic 5th Avenue Theatre, home to musical productions Seattle Central Library, an architectural marvel. Within half a mile: The must-see Pike Place Market, which houses the original Starbucks Pioneer Square, Seattle?s original downtown. Seattle Art Museum. Fantastic shopping, including the flagship Nordstrom, Nordstrom Rack, Macy?s, Columbia Sportswear, Louis Vuitton, Arcteryx, and oodles of independent boutiques. The Great Wheel. Washington State Convention Center. Within about a mile: The iconic Space Needle.  Bell Street Pier Cruise Terminal at Pier 66. Sports stadiums CenturyLink Field and Safeco Field, home to the Seattle Seahawks, Seattle Mariners, and Seattle Sounders.</td>\n",
       "    </tr>\n",
       "    <tr>\n",
       "      <th>4</th>\n",
       "      <td>The Westin Seattle</td>\n",
       "      <td>Situated amid incredible shopping and iconic attractions, The Westin Seattle is a contemporary haven in a prime location. Relax and recharge in stylish accommodations, modern comforts, signature Heavenly� amenities and gorgeous views of the Seattle skyline, Puget Sound, Lake Union and Cascade mountain range. Experience our newly renovated lobby including 1900 FIFTH, our new lobby bar offering a carefully curated wine and crafted cocktail experience. Explore a spectacular collection of celebrated attractions, including the Space Needle, CenturyLink Field, The Washington State Convention Center, Pike Place Market and the Seattle Waterfront. Host unforgettable meetings and social engagements in more than 70,000 square feet of event space, enhanced by expert planning and custom catering. Refresh in our pool or energize your mind and body in our sleek WestinWORKOUT� Fitness Studio. Designed to reflect the style and substance of the Emerald City, our hotel is a welcoming haven near the best of downtown Seattle.</td>\n",
       "    </tr>\n",
       "  </tbody>\n",
       "</table>\n",
       "</div>"
      ],
      "text/plain": [
       "                             name  \\\n",
       "0  Hilton Garden Seattle Downtown   \n",
       "1          Sheraton Grand Seattle   \n",
       "2   Crowne Plaza Seattle Downtown   \n",
       "3   Kimpton Hotel Monaco Seattle    \n",
       "4              The Westin Seattle   \n",
       "\n",
       "                                                                                                                                                                                                                                                                                                                                                                                                                                                                                                                                                                                                                                                                                                                                                                                                                                                                                                                                                                                                                                                                                                                                                                                                                     desc  \n",
       "0  Located on the southern tip of Lake Union, the Hilton Garden Inn Seattle Downtown hotel is perfectly located for business and leisure. \\nThe neighborhood is home to numerous major international companies including Amazon, Google and the Bill & Melinda Gates Foundation. A wealth of eclectic restaurants and bars make this area of Seattle one of the most sought out by locals and visitors. Our proximity to Lake Union allows visitors to take in some of the Pacific Northwest's majestic scenery and enjoy outdoor activities like kayaking and sailing. over 2,000 sq. ft. of versatile space and a complimentary business center. State-of-the-art A/V technology and our helpful staff will guarantee your conference, cocktail reception or wedding is a success. Refresh in the sparkling saltwater pool, or energize with the latest equipment in the 24-hour fitness center. Tastefully decorated and flooded with natural light, our guest rooms and suites offer everything you need to relax and stay productive. Unwind in the bar, and enjoy American cuisine for breakfast, lunch and dinner in our restaurant. The 24-hour Pavilion Pantry? stocks a variety of snacks, drinks and sundries.  \n",
       "1                                                                                                                                                          Located in the city's vibrant core, the Sheraton Grand Seattle provides a gateway to the diverse sights and sounds of the Pacific Northwest. Step out of our front doors to find gourmet dining and bars, world-class shopping, exciting entertainment, and iconic local attractions including the Pike Place Market, Space Needle and Chihuly Garden & Glass Museum. As one of only seven Sheraton hotels in North America to earn the esteemed Grand designation, guests can book confidently knowing they?re receiving the highest benchmark on product and service offerings available. Experience our recently completed multimillion-dollar transformation featuring all new guest rooms, an expanded Sheraton Club Lounge, and modern meeting & event spaces. Gather in our stylish new lobby and enjoy our private art collection featuring local artists while enjoying your favorite beverage from Starbucks. The Sheraton Grand features several dining options including Loulay Kitchen & Bar by James Beard award winning chef Thierry Rautureau.  \n",
       "2                                                                                                                                                                                                                                                                                 Located in the heart of downtown Seattle, the award-winning \\nCrowne Plaza Hotel Seattle ? Downtown offers an exceptional blend of service, style and comfort. You?ll notice Cool, Comfortable and Unconventional touches that set us apart as soon as you step inside. Marvel at stunning views of the city lights while relaxing in our new Sleep Advantage? Beds. Enjoy complimentary wireless Internet throughout the hotel and amenities to help you relax like our Temple Spa? Sleep Tight Amenity kits featuring lavender spray and lotions to help you rejuvenate and unwind. Enjoy an invigorating workout at our 24-hour fitness center, get dining suggestions from our expert concierge or savor sumptuous cuisine at our Regatta Bar & Grille restaurant where you can enjoy Happy Hour in our lounge daily from 4pm - 7pm and monthly drink specials. Come and experience all that The Emerald City has to offer with us!  \n",
       "3                                                                                                                                                                    What?s near our hotel downtown Seattle location? The better \\nquestion might be what?s not nearby. In addition to being one of the hotels near Pike Place Market, here?s just a small sampling of the rest. Columbia Center, whose Sky View Observatory on the 73rd floor is the tallest public viewing area west of the Mississippi Historic 5th Avenue Theatre, home to musical productions Seattle Central Library, an architectural marvel. Within half a mile: The must-see Pike Place Market, which houses the original Starbucks Pioneer Square, Seattle?s original downtown. Seattle Art Museum. Fantastic shopping, including the flagship Nordstrom, Nordstrom Rack, Macy?s, Columbia Sportswear, Louis Vuitton, Arcteryx, and oodles of independent boutiques. The Great Wheel. Washington State Convention Center. Within about a mile: The iconic Space Needle.  Bell Street Pier Cruise Terminal at Pier 66. Sports stadiums CenturyLink Field and Safeco Field, home to the Seattle Seahawks, Seattle Mariners, and Seattle Sounders.  \n",
       "4                                                                                                                                                            Situated amid incredible shopping and iconic attractions, The Westin Seattle is a contemporary haven in a prime location. Relax and recharge in stylish accommodations, modern comforts, signature Heavenly� amenities and gorgeous views of the Seattle skyline, Puget Sound, Lake Union and Cascade mountain range. Experience our newly renovated lobby including 1900 FIFTH, our new lobby bar offering a carefully curated wine and crafted cocktail experience. Explore a spectacular collection of celebrated attractions, including the Space Needle, CenturyLink Field, The Washington State Convention Center, Pike Place Market and the Seattle Waterfront. Host unforgettable meetings and social engagements in more than 70,000 square feet of event space, enhanced by expert planning and custom catering. Refresh in our pool or energize your mind and body in our sleek WestinWORKOUT� Fitness Studio. Designed to reflect the style and substance of the Emerald City, our hotel is a welcoming haven near the best of downtown Seattle.  "
      ]
     },
     "execution_count": 7,
     "metadata": {},
     "output_type": "execute_result"
    }
   ],
   "source": [
    "df.head()"
   ]
  },
  {
   "cell_type": "markdown",
   "id": "db610a42-e9e5-49a1-9443-96e290ba3e6c",
   "metadata": {},
   "source": [
    "#### Clean column hotel descriptions\n",
    "1) remove punctuation\n",
    "2) lowercase text\n",
    "3) either stem or lemmatize text"
   ]
  },
  {
   "cell_type": "code",
   "execution_count": 8,
   "id": "7140bf9c",
   "metadata": {},
   "outputs": [],
   "source": [
    "# Instantiate Porter stemmer\n",
    "ps = nltk.PorterStemmer()"
   ]
  },
  {
   "cell_type": "code",
   "execution_count": 9,
   "id": "fe93ef21",
   "metadata": {},
   "outputs": [],
   "source": [
    "# Create function to clean_text\n",
    "def clean_text(text):\n",
    "    text = \"\".join([word.lower() for word in text if word not in string.punctuation])\n",
    "    tokens = re.split('\\W+', text)\n",
    "    text = [ps.stem(word) for word in tokens]\n",
    "    text_2 = ' '.join(word for word in text)\n",
    "    return text_2"
   ]
  },
  {
   "cell_type": "code",
   "execution_count": 10,
   "id": "218f1603",
   "metadata": {
    "scrolled": true,
    "tags": []
   },
   "outputs": [
    {
     "data": {
      "text/html": [
       "<div>\n",
       "<style scoped>\n",
       "    .dataframe tbody tr th:only-of-type {\n",
       "        vertical-align: middle;\n",
       "    }\n",
       "\n",
       "    .dataframe tbody tr th {\n",
       "        vertical-align: top;\n",
       "    }\n",
       "\n",
       "    .dataframe thead th {\n",
       "        text-align: right;\n",
       "    }\n",
       "</style>\n",
       "<table border=\"1\" class=\"dataframe\">\n",
       "  <thead>\n",
       "    <tr style=\"text-align: right;\">\n",
       "      <th></th>\n",
       "      <th>name</th>\n",
       "      <th>desc</th>\n",
       "      <th>desc_clean</th>\n",
       "    </tr>\n",
       "  </thead>\n",
       "  <tbody>\n",
       "    <tr>\n",
       "      <th>0</th>\n",
       "      <td>Hilton Garden Seattle Downtown</td>\n",
       "      <td>Located on the southern tip of Lake Union, the Hilton Garden Inn Seattle Downtown hotel is perfectly located for business and leisure. \\nThe neighborhood is home to numerous major international companies including Amazon, Google and the Bill &amp; Melinda Gates Foundation. A wealth of eclectic restaurants and bars make this area of Seattle one of the most sought out by locals and visitors. Our proximity to Lake Union allows visitors to take in some of the Pacific Northwest's majestic scenery and enjoy outdoor activities like kayaking and sailing. over 2,000 sq. ft. of versatile space and a complimentary business center. State-of-the-art A/V technology and our helpful staff will guarantee your conference, cocktail reception or wedding is a success. Refresh in the sparkling saltwater pool, or energize with the latest equipment in the 24-hour fitness center. Tastefully decorated and flooded with natural light, our guest rooms and suites offer everything you need to relax and stay productive. Unwind in the bar, and enjoy American cuisine for breakfast, lunch and dinner in our restaurant. The 24-hour Pavilion Pantry? stocks a variety of snacks, drinks and sundries.</td>\n",
       "      <td>locat on the southern tip of lake union the hilton garden inn seattl downtown hotel is perfectli locat for busi and leisur the neighborhood is home to numer major intern compani includ amazon googl and the bill melinda gate foundat a wealth of eclect restaur and bar make thi area of seattl one of the most sought out by local and visitor our proxim to lake union allow visitor to take in some of the pacif northwest majest sceneri and enjoy outdoor activ like kayak and sail over 2000 sq ft of versatil space and a complimentari busi center stateoftheart av technolog and our help staff will guarante your confer cocktail recept or wed is a success refresh in the sparkl saltwat pool or energ with the latest equip in the 24hour fit center tast decor and flood with natur light our guest room and suit offer everyth you need to relax and stay product unwind in the bar and enjoy american cuisin for breakfast lunch and dinner in our restaur the 24hour pavilion pantri stock a varieti of snack drink and sundri</td>\n",
       "    </tr>\n",
       "    <tr>\n",
       "      <th>1</th>\n",
       "      <td>Sheraton Grand Seattle</td>\n",
       "      <td>Located in the city's vibrant core, the Sheraton Grand Seattle provides a gateway to the diverse sights and sounds of the Pacific Northwest. Step out of our front doors to find gourmet dining and bars, world-class shopping, exciting entertainment, and iconic local attractions including the Pike Place Market, Space Needle and Chihuly Garden &amp; Glass Museum. As one of only seven Sheraton hotels in North America to earn the esteemed Grand designation, guests can book confidently knowing they?re receiving the highest benchmark on product and service offerings available. Experience our recently completed multimillion-dollar transformation featuring all new guest rooms, an expanded Sheraton Club Lounge, and modern meeting &amp; event spaces. Gather in our stylish new lobby and enjoy our private art collection featuring local artists while enjoying your favorite beverage from Starbucks. The Sheraton Grand features several dining options including Loulay Kitchen &amp; Bar by James Beard award winning chef Thierry Rautureau.</td>\n",
       "      <td>locat in the citi vibrant core the sheraton grand seattl provid a gateway to the divers sight and sound of the pacif northwest step out of our front door to find gourmet dine and bar worldclass shop excit entertain and icon local attract includ the pike place market space needl and chihuli garden glass museum as one of onli seven sheraton hotel in north america to earn the esteem grand design guest can book confid know theyr receiv the highest benchmark on product and servic offer avail experi our recent complet multimilliondollar transform featur all new guest room an expand sheraton club loung and modern meet event space gather in our stylish new lobbi and enjoy our privat art collect featur local artist while enjoy your favorit beverag from starbuck the sheraton grand featur sever dine option includ loulay kitchen bar by jame beard award win chef thierri rautureau</td>\n",
       "    </tr>\n",
       "    <tr>\n",
       "      <th>2</th>\n",
       "      <td>Crowne Plaza Seattle Downtown</td>\n",
       "      <td>Located in the heart of downtown Seattle, the award-winning \\nCrowne Plaza Hotel Seattle ? Downtown offers an exceptional blend of service, style and comfort. You?ll notice Cool, Comfortable and Unconventional touches that set us apart as soon as you step inside. Marvel at stunning views of the city lights while relaxing in our new Sleep Advantage? Beds. Enjoy complimentary wireless Internet throughout the hotel and amenities to help you relax like our Temple Spa? Sleep Tight Amenity kits featuring lavender spray and lotions to help you rejuvenate and unwind. Enjoy an invigorating workout at our 24-hour fitness center, get dining suggestions from our expert concierge or savor sumptuous cuisine at our Regatta Bar &amp; Grille restaurant where you can enjoy Happy Hour in our lounge daily from 4pm - 7pm and monthly drink specials. Come and experience all that The Emerald City has to offer with us!</td>\n",
       "      <td>locat in the heart of downtown seattl the awardwin crown plaza hotel seattl downtown offer an except blend of servic style and comfort youll notic cool comfort and unconvent touch that set us apart as soon as you step insid marvel at stun view of the citi light while relax in our new sleep advantag bed enjoy complimentari wireless internet throughout the hotel and amen to help you relax like our templ spa sleep tight amen kit featur lavend spray and lotion to help you rejuven and unwind enjoy an invigor workout at our 24hour fit center get dine suggest from our expert concierg or savor sumptuou cuisin at our regatta bar grill restaur where you can enjoy happi hour in our loung daili from 4pm 7pm and monthli drink special come and experi all that the emerald citi ha to offer with us</td>\n",
       "    </tr>\n",
       "    <tr>\n",
       "      <th>3</th>\n",
       "      <td>Kimpton Hotel Monaco Seattle</td>\n",
       "      <td>What?s near our hotel downtown Seattle location? The better \\nquestion might be what?s not nearby. In addition to being one of the hotels near Pike Place Market, here?s just a small sampling of the rest. Columbia Center, whose Sky View Observatory on the 73rd floor is the tallest public viewing area west of the Mississippi Historic 5th Avenue Theatre, home to musical productions Seattle Central Library, an architectural marvel. Within half a mile: The must-see Pike Place Market, which houses the original Starbucks Pioneer Square, Seattle?s original downtown. Seattle Art Museum. Fantastic shopping, including the flagship Nordstrom, Nordstrom Rack, Macy?s, Columbia Sportswear, Louis Vuitton, Arcteryx, and oodles of independent boutiques. The Great Wheel. Washington State Convention Center. Within about a mile: The iconic Space Needle.  Bell Street Pier Cruise Terminal at Pier 66. Sports stadiums CenturyLink Field and Safeco Field, home to the Seattle Seahawks, Seattle Mariners, and Seattle Sounders.</td>\n",
       "      <td>what near our hotel downtown seattl locat the better question might be what not nearbi in addit to be one of the hotel near pike place market here just a small sampl of the rest columbia center whose sky view observatori on the 73rd floor is the tallest public view area west of the mississippi histor 5th avenu theatr home to music product seattl central librari an architectur marvel within half a mile the mustse pike place market which hous the origin starbuck pioneer squar seattl origin downtown seattl art museum fantast shop includ the flagship nordstrom nordstrom rack maci columbia sportswear loui vuitton arcteryx and oodl of independ boutiqu the great wheel washington state convent center within about a mile the icon space needl bell street pier cruis termin at pier 66 sport stadium centurylink field and safeco field home to the seattl seahawk seattl marin and seattl sounder</td>\n",
       "    </tr>\n",
       "    <tr>\n",
       "      <th>4</th>\n",
       "      <td>The Westin Seattle</td>\n",
       "      <td>Situated amid incredible shopping and iconic attractions, The Westin Seattle is a contemporary haven in a prime location. Relax and recharge in stylish accommodations, modern comforts, signature Heavenly� amenities and gorgeous views of the Seattle skyline, Puget Sound, Lake Union and Cascade mountain range. Experience our newly renovated lobby including 1900 FIFTH, our new lobby bar offering a carefully curated wine and crafted cocktail experience. Explore a spectacular collection of celebrated attractions, including the Space Needle, CenturyLink Field, The Washington State Convention Center, Pike Place Market and the Seattle Waterfront. Host unforgettable meetings and social engagements in more than 70,000 square feet of event space, enhanced by expert planning and custom catering. Refresh in our pool or energize your mind and body in our sleek WestinWORKOUT� Fitness Studio. Designed to reflect the style and substance of the Emerald City, our hotel is a welcoming haven near the best of downtown Seattle.</td>\n",
       "      <td>situat amid incred shop and icon attract the westin seattl is a contemporari haven in a prime locat relax and recharg in stylish accommod modern comfort signatur heavenli amen and gorgeou view of the seattl skylin puget sound lake union and cascad mountain rang experi our newli renov lobbi includ 1900 fifth our new lobbi bar offer a care curat wine and craft cocktail experi explor a spectacular collect of celebr attract includ the space needl centurylink field the washington state convent center pike place market and the seattl waterfront host unforgett meet and social engag in more than 70000 squar feet of event space enhanc by expert plan and custom cater refresh in our pool or energ your mind and bodi in our sleek westinworkout fit studio design to reflect the style and substanc of the emerald citi our hotel is a welcom haven near the best of downtown seattl</td>\n",
       "    </tr>\n",
       "  </tbody>\n",
       "</table>\n",
       "</div>"
      ],
      "text/plain": [
       "                             name  \\\n",
       "0  Hilton Garden Seattle Downtown   \n",
       "1          Sheraton Grand Seattle   \n",
       "2   Crowne Plaza Seattle Downtown   \n",
       "3   Kimpton Hotel Monaco Seattle    \n",
       "4              The Westin Seattle   \n",
       "\n",
       "                                                                                                                                                                                                                                                                                                                                                                                                                                                                                                                                                                                                                                                                                                                                                                                                                                                                                                                                                                                                                                                                                                                                                                                                                     desc  \\\n",
       "0  Located on the southern tip of Lake Union, the Hilton Garden Inn Seattle Downtown hotel is perfectly located for business and leisure. \\nThe neighborhood is home to numerous major international companies including Amazon, Google and the Bill & Melinda Gates Foundation. A wealth of eclectic restaurants and bars make this area of Seattle one of the most sought out by locals and visitors. Our proximity to Lake Union allows visitors to take in some of the Pacific Northwest's majestic scenery and enjoy outdoor activities like kayaking and sailing. over 2,000 sq. ft. of versatile space and a complimentary business center. State-of-the-art A/V technology and our helpful staff will guarantee your conference, cocktail reception or wedding is a success. Refresh in the sparkling saltwater pool, or energize with the latest equipment in the 24-hour fitness center. Tastefully decorated and flooded with natural light, our guest rooms and suites offer everything you need to relax and stay productive. Unwind in the bar, and enjoy American cuisine for breakfast, lunch and dinner in our restaurant. The 24-hour Pavilion Pantry? stocks a variety of snacks, drinks and sundries.   \n",
       "1                                                                                                                                                          Located in the city's vibrant core, the Sheraton Grand Seattle provides a gateway to the diverse sights and sounds of the Pacific Northwest. Step out of our front doors to find gourmet dining and bars, world-class shopping, exciting entertainment, and iconic local attractions including the Pike Place Market, Space Needle and Chihuly Garden & Glass Museum. As one of only seven Sheraton hotels in North America to earn the esteemed Grand designation, guests can book confidently knowing they?re receiving the highest benchmark on product and service offerings available. Experience our recently completed multimillion-dollar transformation featuring all new guest rooms, an expanded Sheraton Club Lounge, and modern meeting & event spaces. Gather in our stylish new lobby and enjoy our private art collection featuring local artists while enjoying your favorite beverage from Starbucks. The Sheraton Grand features several dining options including Loulay Kitchen & Bar by James Beard award winning chef Thierry Rautureau.   \n",
       "2                                                                                                                                                                                                                                                                                 Located in the heart of downtown Seattle, the award-winning \\nCrowne Plaza Hotel Seattle ? Downtown offers an exceptional blend of service, style and comfort. You?ll notice Cool, Comfortable and Unconventional touches that set us apart as soon as you step inside. Marvel at stunning views of the city lights while relaxing in our new Sleep Advantage? Beds. Enjoy complimentary wireless Internet throughout the hotel and amenities to help you relax like our Temple Spa? Sleep Tight Amenity kits featuring lavender spray and lotions to help you rejuvenate and unwind. Enjoy an invigorating workout at our 24-hour fitness center, get dining suggestions from our expert concierge or savor sumptuous cuisine at our Regatta Bar & Grille restaurant where you can enjoy Happy Hour in our lounge daily from 4pm - 7pm and monthly drink specials. Come and experience all that The Emerald City has to offer with us!   \n",
       "3                                                                                                                                                                    What?s near our hotel downtown Seattle location? The better \\nquestion might be what?s not nearby. In addition to being one of the hotels near Pike Place Market, here?s just a small sampling of the rest. Columbia Center, whose Sky View Observatory on the 73rd floor is the tallest public viewing area west of the Mississippi Historic 5th Avenue Theatre, home to musical productions Seattle Central Library, an architectural marvel. Within half a mile: The must-see Pike Place Market, which houses the original Starbucks Pioneer Square, Seattle?s original downtown. Seattle Art Museum. Fantastic shopping, including the flagship Nordstrom, Nordstrom Rack, Macy?s, Columbia Sportswear, Louis Vuitton, Arcteryx, and oodles of independent boutiques. The Great Wheel. Washington State Convention Center. Within about a mile: The iconic Space Needle.  Bell Street Pier Cruise Terminal at Pier 66. Sports stadiums CenturyLink Field and Safeco Field, home to the Seattle Seahawks, Seattle Mariners, and Seattle Sounders.   \n",
       "4                                                                                                                                                            Situated amid incredible shopping and iconic attractions, The Westin Seattle is a contemporary haven in a prime location. Relax and recharge in stylish accommodations, modern comforts, signature Heavenly� amenities and gorgeous views of the Seattle skyline, Puget Sound, Lake Union and Cascade mountain range. Experience our newly renovated lobby including 1900 FIFTH, our new lobby bar offering a carefully curated wine and crafted cocktail experience. Explore a spectacular collection of celebrated attractions, including the Space Needle, CenturyLink Field, The Washington State Convention Center, Pike Place Market and the Seattle Waterfront. Host unforgettable meetings and social engagements in more than 70,000 square feet of event space, enhanced by expert planning and custom catering. Refresh in our pool or energize your mind and body in our sleek WestinWORKOUT� Fitness Studio. Designed to reflect the style and substance of the Emerald City, our hotel is a welcoming haven near the best of downtown Seattle.   \n",
       "\n",
       "                                                                                                                                                                                                                                                                                                                                                                                                                                                                                                                                                                                                                                                                                                                                                                                                                                                                                                                                                                                                                                           desc_clean  \n",
       "0  locat on the southern tip of lake union the hilton garden inn seattl downtown hotel is perfectli locat for busi and leisur the neighborhood is home to numer major intern compani includ amazon googl and the bill melinda gate foundat a wealth of eclect restaur and bar make thi area of seattl one of the most sought out by local and visitor our proxim to lake union allow visitor to take in some of the pacif northwest majest sceneri and enjoy outdoor activ like kayak and sail over 2000 sq ft of versatil space and a complimentari busi center stateoftheart av technolog and our help staff will guarante your confer cocktail recept or wed is a success refresh in the sparkl saltwat pool or energ with the latest equip in the 24hour fit center tast decor and flood with natur light our guest room and suit offer everyth you need to relax and stay product unwind in the bar and enjoy american cuisin for breakfast lunch and dinner in our restaur the 24hour pavilion pantri stock a varieti of snack drink and sundri  \n",
       "1                                                                                                                                     locat in the citi vibrant core the sheraton grand seattl provid a gateway to the divers sight and sound of the pacif northwest step out of our front door to find gourmet dine and bar worldclass shop excit entertain and icon local attract includ the pike place market space needl and chihuli garden glass museum as one of onli seven sheraton hotel in north america to earn the esteem grand design guest can book confid know theyr receiv the highest benchmark on product and servic offer avail experi our recent complet multimilliondollar transform featur all new guest room an expand sheraton club loung and modern meet event space gather in our stylish new lobbi and enjoy our privat art collect featur local artist while enjoy your favorit beverag from starbuck the sheraton grand featur sever dine option includ loulay kitchen bar by jame beard award win chef thierri rautureau  \n",
       "2                                                                                                                                                                                                                            locat in the heart of downtown seattl the awardwin crown plaza hotel seattl downtown offer an except blend of servic style and comfort youll notic cool comfort and unconvent touch that set us apart as soon as you step insid marvel at stun view of the citi light while relax in our new sleep advantag bed enjoy complimentari wireless internet throughout the hotel and amen to help you relax like our templ spa sleep tight amen kit featur lavend spray and lotion to help you rejuven and unwind enjoy an invigor workout at our 24hour fit center get dine suggest from our expert concierg or savor sumptuou cuisin at our regatta bar grill restaur where you can enjoy happi hour in our loung daili from 4pm 7pm and monthli drink special come and experi all that the emerald citi ha to offer with us  \n",
       "3                                                                                                                         what near our hotel downtown seattl locat the better question might be what not nearbi in addit to be one of the hotel near pike place market here just a small sampl of the rest columbia center whose sky view observatori on the 73rd floor is the tallest public view area west of the mississippi histor 5th avenu theatr home to music product seattl central librari an architectur marvel within half a mile the mustse pike place market which hous the origin starbuck pioneer squar seattl origin downtown seattl art museum fantast shop includ the flagship nordstrom nordstrom rack maci columbia sportswear loui vuitton arcteryx and oodl of independ boutiqu the great wheel washington state convent center within about a mile the icon space needl bell street pier cruis termin at pier 66 sport stadium centurylink field and safeco field home to the seattl seahawk seattl marin and seattl sounder  \n",
       "4                                                                                                                                           situat amid incred shop and icon attract the westin seattl is a contemporari haven in a prime locat relax and recharg in stylish accommod modern comfort signatur heavenli amen and gorgeou view of the seattl skylin puget sound lake union and cascad mountain rang experi our newli renov lobbi includ 1900 fifth our new lobbi bar offer a care curat wine and craft cocktail experi explor a spectacular collect of celebr attract includ the space needl centurylink field the washington state convent center pike place market and the seattl waterfront host unforgett meet and social engag in more than 70000 squar feet of event space enhanc by expert plan and custom cater refresh in our pool or energ your mind and bodi in our sleek westinworkout fit studio design to reflect the style and substanc of the emerald citi our hotel is a welcom haven near the best of downtown seattl  "
      ]
     },
     "execution_count": 10,
     "metadata": {},
     "output_type": "execute_result"
    }
   ],
   "source": [
    "# Apply clean_text function to clean hotel description field\n",
    "df['desc_clean'] = df['desc'].apply(clean_text)\n",
    "df.head()"
   ]
  },
  {
   "cell_type": "markdown",
   "id": "80842fc8-4657-48ef-ade6-7aad846adb54",
   "metadata": {},
   "source": [
    "#### Display updated dataframe"
   ]
  },
  {
   "cell_type": "code",
   "execution_count": 11,
   "id": "bda92252",
   "metadata": {
    "scrolled": true
   },
   "outputs": [
    {
     "data": {
      "text/html": [
       "<div>\n",
       "<style scoped>\n",
       "    .dataframe tbody tr th:only-of-type {\n",
       "        vertical-align: middle;\n",
       "    }\n",
       "\n",
       "    .dataframe tbody tr th {\n",
       "        vertical-align: top;\n",
       "    }\n",
       "\n",
       "    .dataframe thead th {\n",
       "        text-align: right;\n",
       "    }\n",
       "</style>\n",
       "<table border=\"1\" class=\"dataframe\">\n",
       "  <thead>\n",
       "    <tr style=\"text-align: right;\">\n",
       "      <th></th>\n",
       "      <th>desc</th>\n",
       "      <th>desc_clean</th>\n",
       "    </tr>\n",
       "    <tr>\n",
       "      <th>name</th>\n",
       "      <th></th>\n",
       "      <th></th>\n",
       "    </tr>\n",
       "  </thead>\n",
       "  <tbody>\n",
       "    <tr>\n",
       "      <th>Hilton Garden Seattle Downtown</th>\n",
       "      <td>Located on the southern tip of Lake Union, the Hilton Garden Inn Seattle Downtown hotel is perfectly located for business and leisure. \\nThe neighborhood is home to numerous major international companies including Amazon, Google and the Bill &amp; Melinda Gates Foundation. A wealth of eclectic restaurants and bars make this area of Seattle one of the most sought out by locals and visitors. Our proximity to Lake Union allows visitors to take in some of the Pacific Northwest's majestic scenery and enjoy outdoor activities like kayaking and sailing. over 2,000 sq. ft. of versatile space and a complimentary business center. State-of-the-art A/V technology and our helpful staff will guarantee your conference, cocktail reception or wedding is a success. Refresh in the sparkling saltwater pool, or energize with the latest equipment in the 24-hour fitness center. Tastefully decorated and flooded with natural light, our guest rooms and suites offer everything you need to relax and stay productive. Unwind in the bar, and enjoy American cuisine for breakfast, lunch and dinner in our restaurant. The 24-hour Pavilion Pantry? stocks a variety of snacks, drinks and sundries.</td>\n",
       "      <td>locat on the southern tip of lake union the hilton garden inn seattl downtown hotel is perfectli locat for busi and leisur the neighborhood is home to numer major intern compani includ amazon googl and the bill melinda gate foundat a wealth of eclect restaur and bar make thi area of seattl one of the most sought out by local and visitor our proxim to lake union allow visitor to take in some of the pacif northwest majest sceneri and enjoy outdoor activ like kayak and sail over 2000 sq ft of versatil space and a complimentari busi center stateoftheart av technolog and our help staff will guarante your confer cocktail recept or wed is a success refresh in the sparkl saltwat pool or energ with the latest equip in the 24hour fit center tast decor and flood with natur light our guest room and suit offer everyth you need to relax and stay product unwind in the bar and enjoy american cuisin for breakfast lunch and dinner in our restaur the 24hour pavilion pantri stock a varieti of snack drink and sundri</td>\n",
       "    </tr>\n",
       "    <tr>\n",
       "      <th>Sheraton Grand Seattle</th>\n",
       "      <td>Located in the city's vibrant core, the Sheraton Grand Seattle provides a gateway to the diverse sights and sounds of the Pacific Northwest. Step out of our front doors to find gourmet dining and bars, world-class shopping, exciting entertainment, and iconic local attractions including the Pike Place Market, Space Needle and Chihuly Garden &amp; Glass Museum. As one of only seven Sheraton hotels in North America to earn the esteemed Grand designation, guests can book confidently knowing they?re receiving the highest benchmark on product and service offerings available. Experience our recently completed multimillion-dollar transformation featuring all new guest rooms, an expanded Sheraton Club Lounge, and modern meeting &amp; event spaces. Gather in our stylish new lobby and enjoy our private art collection featuring local artists while enjoying your favorite beverage from Starbucks. The Sheraton Grand features several dining options including Loulay Kitchen &amp; Bar by James Beard award winning chef Thierry Rautureau.</td>\n",
       "      <td>locat in the citi vibrant core the sheraton grand seattl provid a gateway to the divers sight and sound of the pacif northwest step out of our front door to find gourmet dine and bar worldclass shop excit entertain and icon local attract includ the pike place market space needl and chihuli garden glass museum as one of onli seven sheraton hotel in north america to earn the esteem grand design guest can book confid know theyr receiv the highest benchmark on product and servic offer avail experi our recent complet multimilliondollar transform featur all new guest room an expand sheraton club loung and modern meet event space gather in our stylish new lobbi and enjoy our privat art collect featur local artist while enjoy your favorit beverag from starbuck the sheraton grand featur sever dine option includ loulay kitchen bar by jame beard award win chef thierri rautureau</td>\n",
       "    </tr>\n",
       "    <tr>\n",
       "      <th>Crowne Plaza Seattle Downtown</th>\n",
       "      <td>Located in the heart of downtown Seattle, the award-winning \\nCrowne Plaza Hotel Seattle ? Downtown offers an exceptional blend of service, style and comfort. You?ll notice Cool, Comfortable and Unconventional touches that set us apart as soon as you step inside. Marvel at stunning views of the city lights while relaxing in our new Sleep Advantage? Beds. Enjoy complimentary wireless Internet throughout the hotel and amenities to help you relax like our Temple Spa? Sleep Tight Amenity kits featuring lavender spray and lotions to help you rejuvenate and unwind. Enjoy an invigorating workout at our 24-hour fitness center, get dining suggestions from our expert concierge or savor sumptuous cuisine at our Regatta Bar &amp; Grille restaurant where you can enjoy Happy Hour in our lounge daily from 4pm - 7pm and monthly drink specials. Come and experience all that The Emerald City has to offer with us!</td>\n",
       "      <td>locat in the heart of downtown seattl the awardwin crown plaza hotel seattl downtown offer an except blend of servic style and comfort youll notic cool comfort and unconvent touch that set us apart as soon as you step insid marvel at stun view of the citi light while relax in our new sleep advantag bed enjoy complimentari wireless internet throughout the hotel and amen to help you relax like our templ spa sleep tight amen kit featur lavend spray and lotion to help you rejuven and unwind enjoy an invigor workout at our 24hour fit center get dine suggest from our expert concierg or savor sumptuou cuisin at our regatta bar grill restaur where you can enjoy happi hour in our loung daili from 4pm 7pm and monthli drink special come and experi all that the emerald citi ha to offer with us</td>\n",
       "    </tr>\n",
       "    <tr>\n",
       "      <th>Kimpton Hotel Monaco Seattle</th>\n",
       "      <td>What?s near our hotel downtown Seattle location? The better \\nquestion might be what?s not nearby. In addition to being one of the hotels near Pike Place Market, here?s just a small sampling of the rest. Columbia Center, whose Sky View Observatory on the 73rd floor is the tallest public viewing area west of the Mississippi Historic 5th Avenue Theatre, home to musical productions Seattle Central Library, an architectural marvel. Within half a mile: The must-see Pike Place Market, which houses the original Starbucks Pioneer Square, Seattle?s original downtown. Seattle Art Museum. Fantastic shopping, including the flagship Nordstrom, Nordstrom Rack, Macy?s, Columbia Sportswear, Louis Vuitton, Arcteryx, and oodles of independent boutiques. The Great Wheel. Washington State Convention Center. Within about a mile: The iconic Space Needle.  Bell Street Pier Cruise Terminal at Pier 66. Sports stadiums CenturyLink Field and Safeco Field, home to the Seattle Seahawks, Seattle Mariners, and Seattle Sounders.</td>\n",
       "      <td>what near our hotel downtown seattl locat the better question might be what not nearbi in addit to be one of the hotel near pike place market here just a small sampl of the rest columbia center whose sky view observatori on the 73rd floor is the tallest public view area west of the mississippi histor 5th avenu theatr home to music product seattl central librari an architectur marvel within half a mile the mustse pike place market which hous the origin starbuck pioneer squar seattl origin downtown seattl art museum fantast shop includ the flagship nordstrom nordstrom rack maci columbia sportswear loui vuitton arcteryx and oodl of independ boutiqu the great wheel washington state convent center within about a mile the icon space needl bell street pier cruis termin at pier 66 sport stadium centurylink field and safeco field home to the seattl seahawk seattl marin and seattl sounder</td>\n",
       "    </tr>\n",
       "    <tr>\n",
       "      <th>The Westin Seattle</th>\n",
       "      <td>Situated amid incredible shopping and iconic attractions, The Westin Seattle is a contemporary haven in a prime location. Relax and recharge in stylish accommodations, modern comforts, signature Heavenly� amenities and gorgeous views of the Seattle skyline, Puget Sound, Lake Union and Cascade mountain range. Experience our newly renovated lobby including 1900 FIFTH, our new lobby bar offering a carefully curated wine and crafted cocktail experience. Explore a spectacular collection of celebrated attractions, including the Space Needle, CenturyLink Field, The Washington State Convention Center, Pike Place Market and the Seattle Waterfront. Host unforgettable meetings and social engagements in more than 70,000 square feet of event space, enhanced by expert planning and custom catering. Refresh in our pool or energize your mind and body in our sleek WestinWORKOUT� Fitness Studio. Designed to reflect the style and substance of the Emerald City, our hotel is a welcoming haven near the best of downtown Seattle.</td>\n",
       "      <td>situat amid incred shop and icon attract the westin seattl is a contemporari haven in a prime locat relax and recharg in stylish accommod modern comfort signatur heavenli amen and gorgeou view of the seattl skylin puget sound lake union and cascad mountain rang experi our newli renov lobbi includ 1900 fifth our new lobbi bar offer a care curat wine and craft cocktail experi explor a spectacular collect of celebr attract includ the space needl centurylink field the washington state convent center pike place market and the seattl waterfront host unforgett meet and social engag in more than 70000 squar feet of event space enhanc by expert plan and custom cater refresh in our pool or energ your mind and bodi in our sleek westinworkout fit studio design to reflect the style and substanc of the emerald citi our hotel is a welcom haven near the best of downtown seattl</td>\n",
       "    </tr>\n",
       "  </tbody>\n",
       "</table>\n",
       "</div>"
      ],
      "text/plain": [
       "                                                                                                                                                                                                                                                                                                                                                                                                                                                                                                                                                                                                                                                                                                                                                                                                                                                                                                                                                                                                                                                                                                                                                                                                                                                  desc  \\\n",
       "name                                                                                                                                                                                                                                                                                                                                                                                                                                                                                                                                                                                                                                                                                                                                                                                                                                                                                                                                                                                                                                                                                                                                                                                                                                                     \n",
       "Hilton Garden Seattle Downtown  Located on the southern tip of Lake Union, the Hilton Garden Inn Seattle Downtown hotel is perfectly located for business and leisure. \\nThe neighborhood is home to numerous major international companies including Amazon, Google and the Bill & Melinda Gates Foundation. A wealth of eclectic restaurants and bars make this area of Seattle one of the most sought out by locals and visitors. Our proximity to Lake Union allows visitors to take in some of the Pacific Northwest's majestic scenery and enjoy outdoor activities like kayaking and sailing. over 2,000 sq. ft. of versatile space and a complimentary business center. State-of-the-art A/V technology and our helpful staff will guarantee your conference, cocktail reception or wedding is a success. Refresh in the sparkling saltwater pool, or energize with the latest equipment in the 24-hour fitness center. Tastefully decorated and flooded with natural light, our guest rooms and suites offer everything you need to relax and stay productive. Unwind in the bar, and enjoy American cuisine for breakfast, lunch and dinner in our restaurant. The 24-hour Pavilion Pantry? stocks a variety of snacks, drinks and sundries.   \n",
       "Sheraton Grand Seattle                                                                                                                                                                  Located in the city's vibrant core, the Sheraton Grand Seattle provides a gateway to the diverse sights and sounds of the Pacific Northwest. Step out of our front doors to find gourmet dining and bars, world-class shopping, exciting entertainment, and iconic local attractions including the Pike Place Market, Space Needle and Chihuly Garden & Glass Museum. As one of only seven Sheraton hotels in North America to earn the esteemed Grand designation, guests can book confidently knowing they?re receiving the highest benchmark on product and service offerings available. Experience our recently completed multimillion-dollar transformation featuring all new guest rooms, an expanded Sheraton Club Lounge, and modern meeting & event spaces. Gather in our stylish new lobby and enjoy our private art collection featuring local artists while enjoying your favorite beverage from Starbucks. The Sheraton Grand features several dining options including Loulay Kitchen & Bar by James Beard award winning chef Thierry Rautureau.   \n",
       "Crowne Plaza Seattle Downtown                                                                                                                                                                                                                                                                                  Located in the heart of downtown Seattle, the award-winning \\nCrowne Plaza Hotel Seattle ? Downtown offers an exceptional blend of service, style and comfort. You?ll notice Cool, Comfortable and Unconventional touches that set us apart as soon as you step inside. Marvel at stunning views of the city lights while relaxing in our new Sleep Advantage? Beds. Enjoy complimentary wireless Internet throughout the hotel and amenities to help you relax like our Temple Spa? Sleep Tight Amenity kits featuring lavender spray and lotions to help you rejuvenate and unwind. Enjoy an invigorating workout at our 24-hour fitness center, get dining suggestions from our expert concierge or savor sumptuous cuisine at our Regatta Bar & Grille restaurant where you can enjoy Happy Hour in our lounge daily from 4pm - 7pm and monthly drink specials. Come and experience all that The Emerald City has to offer with us!   \n",
       "Kimpton Hotel Monaco Seattle                                                                                                                                                                      What?s near our hotel downtown Seattle location? The better \\nquestion might be what?s not nearby. In addition to being one of the hotels near Pike Place Market, here?s just a small sampling of the rest. Columbia Center, whose Sky View Observatory on the 73rd floor is the tallest public viewing area west of the Mississippi Historic 5th Avenue Theatre, home to musical productions Seattle Central Library, an architectural marvel. Within half a mile: The must-see Pike Place Market, which houses the original Starbucks Pioneer Square, Seattle?s original downtown. Seattle Art Museum. Fantastic shopping, including the flagship Nordstrom, Nordstrom Rack, Macy?s, Columbia Sportswear, Louis Vuitton, Arcteryx, and oodles of independent boutiques. The Great Wheel. Washington State Convention Center. Within about a mile: The iconic Space Needle.  Bell Street Pier Cruise Terminal at Pier 66. Sports stadiums CenturyLink Field and Safeco Field, home to the Seattle Seahawks, Seattle Mariners, and Seattle Sounders.   \n",
       "The Westin Seattle                                                                                                                                                                        Situated amid incredible shopping and iconic attractions, The Westin Seattle is a contemporary haven in a prime location. Relax and recharge in stylish accommodations, modern comforts, signature Heavenly� amenities and gorgeous views of the Seattle skyline, Puget Sound, Lake Union and Cascade mountain range. Experience our newly renovated lobby including 1900 FIFTH, our new lobby bar offering a carefully curated wine and crafted cocktail experience. Explore a spectacular collection of celebrated attractions, including the Space Needle, CenturyLink Field, The Washington State Convention Center, Pike Place Market and the Seattle Waterfront. Host unforgettable meetings and social engagements in more than 70,000 square feet of event space, enhanced by expert planning and custom catering. Refresh in our pool or energize your mind and body in our sleek WestinWORKOUT� Fitness Studio. Designed to reflect the style and substance of the Emerald City, our hotel is a welcoming haven near the best of downtown Seattle.   \n",
       "\n",
       "                                                                                                                                                                                                                                                                                                                                                                                                                                                                                                                                                                                                                                                                                                                                                                                                                                                                                                                                                                                                                                                                        desc_clean  \n",
       "name                                                                                                                                                                                                                                                                                                                                                                                                                                                                                                                                                                                                                                                                                                                                                                                                                                                                                                                                                                                                                                                                                \n",
       "Hilton Garden Seattle Downtown  locat on the southern tip of lake union the hilton garden inn seattl downtown hotel is perfectli locat for busi and leisur the neighborhood is home to numer major intern compani includ amazon googl and the bill melinda gate foundat a wealth of eclect restaur and bar make thi area of seattl one of the most sought out by local and visitor our proxim to lake union allow visitor to take in some of the pacif northwest majest sceneri and enjoy outdoor activ like kayak and sail over 2000 sq ft of versatil space and a complimentari busi center stateoftheart av technolog and our help staff will guarante your confer cocktail recept or wed is a success refresh in the sparkl saltwat pool or energ with the latest equip in the 24hour fit center tast decor and flood with natur light our guest room and suit offer everyth you need to relax and stay product unwind in the bar and enjoy american cuisin for breakfast lunch and dinner in our restaur the 24hour pavilion pantri stock a varieti of snack drink and sundri  \n",
       "Sheraton Grand Seattle                                                                                                                                             locat in the citi vibrant core the sheraton grand seattl provid a gateway to the divers sight and sound of the pacif northwest step out of our front door to find gourmet dine and bar worldclass shop excit entertain and icon local attract includ the pike place market space needl and chihuli garden glass museum as one of onli seven sheraton hotel in north america to earn the esteem grand design guest can book confid know theyr receiv the highest benchmark on product and servic offer avail experi our recent complet multimilliondollar transform featur all new guest room an expand sheraton club loung and modern meet event space gather in our stylish new lobbi and enjoy our privat art collect featur local artist while enjoy your favorit beverag from starbuck the sheraton grand featur sever dine option includ loulay kitchen bar by jame beard award win chef thierri rautureau  \n",
       "Crowne Plaza Seattle Downtown                                                                                                                                                                                                                             locat in the heart of downtown seattl the awardwin crown plaza hotel seattl downtown offer an except blend of servic style and comfort youll notic cool comfort and unconvent touch that set us apart as soon as you step insid marvel at stun view of the citi light while relax in our new sleep advantag bed enjoy complimentari wireless internet throughout the hotel and amen to help you relax like our templ spa sleep tight amen kit featur lavend spray and lotion to help you rejuven and unwind enjoy an invigor workout at our 24hour fit center get dine suggest from our expert concierg or savor sumptuou cuisin at our regatta bar grill restaur where you can enjoy happi hour in our loung daili from 4pm 7pm and monthli drink special come and experi all that the emerald citi ha to offer with us  \n",
       "Kimpton Hotel Monaco Seattle                                                                                                                           what near our hotel downtown seattl locat the better question might be what not nearbi in addit to be one of the hotel near pike place market here just a small sampl of the rest columbia center whose sky view observatori on the 73rd floor is the tallest public view area west of the mississippi histor 5th avenu theatr home to music product seattl central librari an architectur marvel within half a mile the mustse pike place market which hous the origin starbuck pioneer squar seattl origin downtown seattl art museum fantast shop includ the flagship nordstrom nordstrom rack maci columbia sportswear loui vuitton arcteryx and oodl of independ boutiqu the great wheel washington state convent center within about a mile the icon space needl bell street pier cruis termin at pier 66 sport stadium centurylink field and safeco field home to the seattl seahawk seattl marin and seattl sounder  \n",
       "The Westin Seattle                                                                                                                                                       situat amid incred shop and icon attract the westin seattl is a contemporari haven in a prime locat relax and recharg in stylish accommod modern comfort signatur heavenli amen and gorgeou view of the seattl skylin puget sound lake union and cascad mountain rang experi our newli renov lobbi includ 1900 fifth our new lobbi bar offer a care curat wine and craft cocktail experi explor a spectacular collect of celebr attract includ the space needl centurylink field the washington state convent center pike place market and the seattl waterfront host unforgett meet and social engag in more than 70000 squar feet of event space enhanc by expert plan and custom cater refresh in our pool or energ your mind and bodi in our sleek westinworkout fit studio design to reflect the style and substanc of the emerald citi our hotel is a welcom haven near the best of downtown seattl  "
      ]
     },
     "execution_count": 11,
     "metadata": {},
     "output_type": "execute_result"
    }
   ],
   "source": [
    "df.set_index('name', inplace = True)\n",
    "df.head()"
   ]
  },
  {
   "cell_type": "markdown",
   "id": "6209df9d",
   "metadata": {},
   "source": [
    "### Vectorize cleaned hotel descriptions"
   ]
  },
  {
   "cell_type": "code",
   "execution_count": 12,
   "id": "c5955795",
   "metadata": {},
   "outputs": [],
   "source": [
    "# Instantiate TF-IDF vectorizer\n",
    "# Notice the ngram_range\n",
    "tf = TfidfVectorizer(analyzer='word', ngram_range=(1, 3), stop_words='english')"
   ]
  },
  {
   "cell_type": "code",
   "execution_count": 13,
   "id": "1530be6f",
   "metadata": {},
   "outputs": [
    {
     "data": {
      "text/plain": [
       "<152x26084 sparse matrix of type '<class 'numpy.float64'>'\n",
       "\twith 39845 stored elements in Compressed Sparse Row format>"
      ]
     },
     "execution_count": 13,
     "metadata": {},
     "output_type": "execute_result"
    }
   ],
   "source": [
    "# Create a hotel descriptions matrix for each ngram and its TF-IDF score with regard to each hotel description\n",
    "tfidf_matrix = tf.fit_transform(df['desc_clean'])\n",
    "tfidf_matrix"
   ]
  },
  {
   "cell_type": "markdown",
   "id": "8478bff0",
   "metadata": {},
   "source": [
    "### Generate similarities matrix on cleaned hotel descriptions"
   ]
  },
  {
   "cell_type": "code",
   "execution_count": 14,
   "id": "1ac7a5e3",
   "metadata": {},
   "outputs": [
    {
     "data": {
      "text/plain": [
       "(152, 152)"
      ]
     },
     "execution_count": 14,
     "metadata": {},
     "output_type": "execute_result"
    }
   ],
   "source": [
    "# cosine_similarities = cosine_similarity(tfidf_matrix, tfidf_matrix)\n",
    "cosine_similarities = cosine_similarity(tfidf_matrix)\n",
    "cosine_similarities.shape"
   ]
  },
  {
   "cell_type": "code",
   "execution_count": 15,
   "id": "b11050b3",
   "metadata": {},
   "outputs": [
    {
     "data": {
      "text/plain": [
       "array([[1.        , 0.01794847, 0.03479381, ..., 0.01363881, 0.00414717,\n",
       "        0.00990616],\n",
       "       [0.01794847, 1.        , 0.01870858, ..., 0.01878472, 0.00681159,\n",
       "        0.00947376],\n",
       "       [0.03479381, 0.01870858, 1.        , ..., 0.02936464, 0.0127602 ,\n",
       "        0.0106586 ],\n",
       "       ...,\n",
       "       [0.01363881, 0.01878472, 0.02936464, ..., 1.        , 0.0134766 ,\n",
       "        0.00820755],\n",
       "       [0.00414717, 0.00681159, 0.0127602 , ..., 0.0134766 , 1.        ,\n",
       "        0.00587665],\n",
       "       [0.00990616, 0.00947376, 0.0106586 , ..., 0.00820755, 0.00587665,\n",
       "        1.        ]])"
      ]
     },
     "execution_count": 15,
     "metadata": {},
     "output_type": "execute_result"
    }
   ],
   "source": [
    "cosine_similarities"
   ]
  },
  {
   "cell_type": "markdown",
   "id": "181ed2b7",
   "metadata": {},
   "source": [
    "### Create hotel recommender"
   ]
  },
  {
   "cell_type": "code",
   "execution_count": 16,
   "id": "c8ef3665",
   "metadata": {},
   "outputs": [
    {
     "data": {
      "text/plain": [
       "0               Hilton Garden Seattle Downtown\n",
       "1                       Sheraton Grand Seattle\n",
       "2                Crowne Plaza Seattle Downtown\n",
       "3                Kimpton Hotel Monaco Seattle \n",
       "4                           The Westin Seattle\n",
       "                        ...                   \n",
       "147                  The Halcyon Suite Du Jour\n",
       "148                                Vermont Inn\n",
       "149                 Stay Alfred on Wall Street\n",
       "150         Pike's Place Lux Suites by Barsala\n",
       "151    citizenM Seattle South Lake Union hotel\n",
       "Name: name, Length: 152, dtype: object"
      ]
     },
     "execution_count": 16,
     "metadata": {},
     "output_type": "execute_result"
    }
   ],
   "source": [
    "# Save hotel indicies for recommendation lookups\n",
    "hotel_indices = pd.Series(df.index)\n",
    "hotel_indices"
   ]
  },
  {
   "cell_type": "code",
   "execution_count": 17,
   "id": "9dcfc753",
   "metadata": {},
   "outputs": [],
   "source": [
    "def recommendations(seed_hotel_name, hotels=df, cosine_similarities=cosine_similarities):\n",
    "\n",
    "    recommended_hotels = []\n",
    "    \n",
    "    # Get hotel index of the seed hotel name\n",
    "    seed_hotel_index = hotel_indices[hotel_indices == seed_hotel_name].index[0]\n",
    "    \n",
    "    # Create a Series with the similarity scores in descending order\n",
    "    score_series = pd.Series(cosine_similarities[seed_hotel_index]).sort_values(ascending = False)\n",
    "    \n",
    "    # Get the indexes of the 5 most similar hotels except itself\n",
    "    top_indexes = list(score_series.iloc[1:6].index)\n",
    "    \n",
    "    # Populate the list with the names of the top 5 matching hotels \n",
    "    count = 0\n",
    "    recommended_hotels.append(f\"Seed hotel : {seed_hotel_name}\")\n",
    "    for i in top_indexes:\n",
    "        count += 1\n",
    "        hotel = list(hotels.index)[i]\n",
    "        recommended_hotels.append(f\"Recommendation {count} : {hotel}\")\n",
    "    \n",
    "    return recommended_hotels"
   ]
  },
  {
   "cell_type": "markdown",
   "id": "8a886324",
   "metadata": {},
   "source": [
    "### Make hotel recommendations for the following hotel names:\n",
    "* Motel 6 Seattle Sea-Tac Airport South\n",
    "* The Bacon Mansion Bed and Breakfast\n",
    "* Holiday Inn Seattle Downtown"
   ]
  },
  {
   "cell_type": "code",
   "execution_count": 18,
   "id": "168830e3",
   "metadata": {},
   "outputs": [
    {
     "data": {
      "text/plain": [
       "['Seed hotel : Motel 6 Seattle Sea-Tac Airport South',\n",
       " 'Recommendation 1 : Emerald Motel',\n",
       " 'Recommendation 2 : Ramada by Wyndham SeaTac Airport',\n",
       " 'Recommendation 3 : DoubleTree by Hilton Hotel Seattle Airport',\n",
       " 'Recommendation 4 : Red Roof Inn Seattle Airport - SEATAC',\n",
       " 'Recommendation 5 : Country Inn & Suites by Radisson, Seattle-Tacoma International Airport']"
      ]
     },
     "execution_count": 18,
     "metadata": {},
     "output_type": "execute_result"
    }
   ],
   "source": [
    "recommendations('Motel 6 Seattle Sea-Tac Airport South')"
   ]
  },
  {
   "cell_type": "code",
   "execution_count": 19,
   "id": "2aa3cd8d",
   "metadata": {},
   "outputs": [
    {
     "data": {
      "text/plain": [
       "['Seed hotel : The Bacon Mansion Bed and Breakfast',\n",
       " 'Recommendation 1 : 11th Avenue Inn Bed and Breakfast',\n",
       " 'Recommendation 2 : Shafer Baillie Mansion Bed & Breakfast',\n",
       " 'Recommendation 3 : Gaslight Inn',\n",
       " 'Recommendation 4 : Chittenden House Bed and Breakfast',\n",
       " 'Recommendation 5 : Silver Cloud Hotel - Seattle Broadway']"
      ]
     },
     "execution_count": 19,
     "metadata": {},
     "output_type": "execute_result"
    }
   ],
   "source": [
    "recommendations('The Bacon Mansion Bed and Breakfast')"
   ]
  },
  {
   "cell_type": "code",
   "execution_count": 20,
   "id": "8179a628",
   "metadata": {},
   "outputs": [
    {
     "data": {
      "text/plain": [
       "['Seed hotel : Holiday Inn Seattle Downtown',\n",
       " 'Recommendation 1 : Holiday Inn Express & Suites Seattle-City Center',\n",
       " 'Recommendation 2 : Inn at Queen Anne',\n",
       " 'Recommendation 3 : Holiday Inn Express & Suites North Seattle - Shoreline',\n",
       " 'Recommendation 4 : Hotel Theodore',\n",
       " 'Recommendation 5 : Silver Cloud Hotel - Seattle Stadium']"
      ]
     },
     "execution_count": 20,
     "metadata": {},
     "output_type": "execute_result"
    }
   ],
   "source": [
    "recommendations('Holiday Inn Seattle Downtown')"
   ]
  }
 ],
 "metadata": {
  "kernelspec": {
   "display_name": "Python 3 (ipykernel)",
   "language": "python",
   "name": "python3"
  },
  "language_info": {
   "codemirror_mode": {
    "name": "ipython",
    "version": 3
   },
   "file_extension": ".py",
   "mimetype": "text/x-python",
   "name": "python",
   "nbconvert_exporter": "python",
   "pygments_lexer": "ipython3",
   "version": "3.11.4"
  }
 },
 "nbformat": 4,
 "nbformat_minor": 5
}
